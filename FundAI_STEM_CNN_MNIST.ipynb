{
  "nbformat": 4,
  "nbformat_minor": 0,
  "metadata": {
    "accelerator": "GPU",
    "colab": {
      "name": "FundAI-STEM-CNN-MNIST.ipynb",
      "provenance": [],
      "collapsed_sections": [],
      "toc_visible": true,
      "include_colab_link": true
    },
    "kernelspec": {
      "display_name": "Python 3",
      "name": "python3"
    }
  },
  "cells": [
    {
      "cell_type": "markdown",
      "metadata": {
        "id": "view-in-github",
        "colab_type": "text"
      },
      "source": [
        "<a href=\"https://colab.research.google.com/github/pgader/AI-For-STEM/blob/master/FundAI_STEM_CNN_MNIST.ipynb\" target=\"_parent\"><img src=\"https://colab.research.google.com/assets/colab-badge.svg\" alt=\"Open In Colab\"/></a>"
      ]
    },
    {
      "cell_type": "markdown",
      "metadata": {
        "id": "rX8mhOLljYeM"
      },
      "source": [
        "##### Copyright 2019 The TensorFlow Authors."
      ]
    },
    {
      "cell_type": "code",
      "metadata": {
        "cellView": "form",
        "id": "BZSlp3DAjdYf"
      },
      "source": [
        "#@title Licensed under the Apache License, Version 2.0 (the \"License\");\n",
        "# you may not use this file except in compliance with the License.\n",
        "# You may obtain a copy of the License at\n",
        "#\n",
        "# https://www.apache.org/licenses/LICENSE-2.0\n",
        "#\n",
        "# Unless required by applicable law or agreed to in writing, software\n",
        "# distributed under the License is distributed on an \"AS IS\" BASIS,\n",
        "# WITHOUT WARRANTIES OR CONDITIONS OF ANY KIND, either express or implied.\n",
        "# See the License for the specific language governing permissions and\n",
        "# limitations under the License."
      ],
      "execution_count": null,
      "outputs": []
    },
    {
      "cell_type": "markdown",
      "metadata": {
        "id": "3wF5wszaj97Y"
      },
      "source": [
        "# Fundamentals of AI for STEM HW 4\n",
        "# Interpreting Features Extracted by Trained CNN Filters\n",
        "\n",
        "<h1> <center> Instructions </center> </h1>\n",
        "\n",
        "### In this homework, you will train a CNN using Tensor Flow and try to interpret the features extracted by the Convolution Filters.  There are 32 filters in the CNN.  You should try to interpret the first 12 filters.  The interpretation of each Filter can be one of the following four categories:\n",
        "\n",
        "1. Edge detector.  If it is an Edge, the estimate the orientation between 0 and 180 degrees.(0 and 180 degrees are horizontal)\n",
        "2. Point detector. (Junction, Corner, Isolated, points, etc.)\n",
        "3. Smoothing.\n",
        "4. Cannot Interpret\n",
        "\n",
        "+ The dataset is the famous (or infamous) MNIST handwritten digit data which is useful because it is easy to interpret.\n",
        "__________________________________________________________________\n",
        "### To start the homework, execute the cells by putting your cursor in each code cell (they are shaded with gray) sequentially and type shift - enter simultaneously. \n",
        "\n",
        "+ Each cell will show a number inside brackets, e.g. [1], when it is finished executing.\n",
        "\n",
        "+ When you execute the first cell, Colab may tell you that you do not have access to their GPUs.  In that case, select the non-GPU option.\n",
        "\n",
        "+ Once you have executed cell [8], the CNN is ready to be trained.  The training code is clearly indicated in the cell after cell [8].  \n",
        "+ Execute the cell for training; it may take a couple of minutes.  It took a couple minutes on my Macbook Pro.\n",
        "+ The training code will print progress after every Epoch.  It is currently set to 3 Epochs.  The performance on the Test Data should be around 98%.\n",
        "+ Once the CNN is trained, the training code will be in cell [9].\n",
        "+ Execute the next 2 cells and you should see a dispaly of all the filters.\n",
        "+ Execute the next cell and you should see a printout of the numbers in each filter\n",
        "+ Execute the next 2 cells and you can look at the Feature Map corresponding to a specific filter and input image.  \n",
        "  + You can select the image from the MNIST test set by setting ImNum = N, where N is between 0 and 9999.\n",
        "  + You can select the filter by setting FilterNum = M, where M is between \n",
        "  + This may be the most helpful\n"
      ]
    },
    {
      "cell_type": "markdown",
      "metadata": {
        "id": "vWYeNom6a80H"
      },
      "source": [
        "# This notebook is a combination and adaptation of the\n",
        "\n",
        "## TensorFlow 2 quickstart for experts Google Colab notebook\n",
        "\n",
        "and\n",
        "\n",
        "## The suggestions given by Jason Brownlee at the URL:\n",
        "\n",
        "https://machinelearningmastery.com/how-to-visualize-filters-and-feature-maps-in-convolutional-neural-networks/"
      ]
    },
    {
      "cell_type": "markdown",
      "metadata": {
        "id": "7SIJAxY1a1iM"
      },
      "source": [
        "_____\n"
      ]
    },
    {
      "cell_type": "markdown",
      "metadata": {
        "id": "DUNzJc4jTj6G"
      },
      "source": [
        "<table class=\"tfo-notebook-buttons\" align=\"left\">\n",
        "  <td>\n",
        "    <a target=\"_blank\" href=\"https://www.tensorflow.org/tutorials/quickstart/advanced\"><img src=\"https://www.tensorflow.org/images/tf_logo_32px.png\" />View on TensorFlow.org</a>\n",
        "  </td>\n",
        "  <td>\n",
        "    <a target=\"_blank\" href=\"https://colab.research.google.com/github/tensorflow/docs/blob/master/site/en/tutorials/quickstart/advanced.ipynb\"><img src=\"https://www.tensorflow.org/images/colab_logo_32px.png\" />Run in Google Colab</a>\n",
        "  </td>\n",
        "  <td>\n",
        "    <a target=\"_blank\" href=\"https://github.com/tensorflow/docs/blob/master/site/en/tutorials/quickstart/advanced.ipynb\"><img src=\"https://www.tensorflow.org/images/GitHub-Mark-32px.png\" />View source on GitHub</a>\n",
        "  </td>\n",
        "  <td>\n",
        "    <a href=\"https://storage.googleapis.com/tensorflow_docs/docs/site/en/tutorials/quickstart/advanced.ipynb\"><img src=\"https://www.tensorflow.org/images/download_logo_32px.png\" />Download notebook</a>\n",
        "  </td>\n",
        "</table>"
      ]
    },
    {
      "cell_type": "markdown",
      "metadata": {
        "id": "hiH7AC-NTniF"
      },
      "source": [
        "This is a [Google Colaboratory](https://colab.research.google.com/notebooks/welcome.ipynb) notebook file. Python programs are run directly in the browser—a great way to learn and use TensorFlow. To follow this tutorial, run the notebook in Google Colab by clicking the button at the top of this page.\n",
        "\n",
        "1. In Colab, connect to a Python runtime: At the top-right of the menu bar, select *CONNECT*.\n",
        "2. Run all the notebook code cells: Select *Runtime* > *Run all*."
      ]
    },
    {
      "cell_type": "markdown",
      "metadata": {
        "id": "eOsVdx6GGHmU"
      },
      "source": [
        "Download and install TensorFlow 2. Import TensorFlow into your program:\n",
        "\n",
        "Note: Upgrade `pip` to install the TensorFlow 2 package. See the [install guide](https://www.tensorflow.org/install) for details."
      ]
    },
    {
      "cell_type": "markdown",
      "metadata": {
        "id": "UFjR2ScT_Xwp"
      },
      "source": [
        ""
      ]
    },
    {
      "cell_type": "markdown",
      "metadata": {
        "id": "QS7DDTiZGRTo"
      },
      "source": [
        "Import TensorFlow into your program:"
      ]
    },
    {
      "cell_type": "code",
      "metadata": {
        "id": "0trJmd6DjqBZ"
      },
      "source": [
        "import tensorflow as tf\n",
        "\n",
        "from tensorflow.keras.layers import Dense, Flatten, Conv2D\n",
        "from tensorflow.keras import Model, models"
      ],
      "execution_count": 1,
      "outputs": []
    },
    {
      "cell_type": "markdown",
      "metadata": {
        "id": "7NAbSZiaoJ4z"
      },
      "source": [
        "Load and prepare the [MNIST dataset](http://yann.lecun.com/exdb/mnist/)."
      ]
    },
    {
      "cell_type": "code",
      "metadata": {
        "id": "JqFRS6K07jJs"
      },
      "source": [
        "mnist = tf.keras.datasets.mnist\n",
        "\n",
        "(x_train, y_train), (x_test, y_test) = mnist.load_data()\n",
        "x_train, x_test = x_train / 255.0, x_test / 255.0\n",
        "\n",
        "# Add a channels dimension\n",
        "x_train = x_train[..., tf.newaxis].astype(\"float32\")\n",
        "x_test = x_test[..., tf.newaxis].astype(\"float32\")"
      ],
      "execution_count": 2,
      "outputs": []
    },
    {
      "cell_type": "markdown",
      "metadata": {
        "id": "k1Evqx0S22r_"
      },
      "source": [
        "Use `tf.data` to batch and shuffle the dataset:"
      ]
    },
    {
      "cell_type": "code",
      "metadata": {
        "id": "8Iu_quO024c2"
      },
      "source": [
        "train_ds = tf.data.Dataset.from_tensor_slices(\n",
        "    (x_train, y_train)).shuffle(10000).batch(32)\n",
        "\n",
        "test_ds = tf.data.Dataset.from_tensor_slices((x_test, y_test)).batch(32)"
      ],
      "execution_count": 3,
      "outputs": []
    },
    {
      "cell_type": "markdown",
      "metadata": {
        "id": "BPZ68wASog_I"
      },
      "source": [
        "Build the `tf.keras` model using the Keras [model subclassing API](https://www.tensorflow.org/guide/keras#model_subclassing):"
      ]
    },
    {
      "cell_type": "code",
      "metadata": {
        "id": "h3IKyzTCDNGo"
      },
      "source": [
        "class MyModel(Model):\n",
        "  def __init__(self):\n",
        "    super(MyModel, self).__init__()\n",
        "    self.conv1 = Conv2D(32, 3, activation='relu')\n",
        "    self.flatten = Flatten()\n",
        "    self.d1 = Dense(128, activation='relu')\n",
        "    self.d2 = Dense(10)\n",
        "\n",
        "  def call(self, x):\n",
        "    x = self.conv1(x)\n",
        "    x = self.flatten(x)\n",
        "    x = self.d1(x)\n",
        "    return self.d2(x)\n",
        "\n",
        "  def ConvOut(self,x):\n",
        "    x = self.conv1(x)\n",
        "    return x\n",
        "\n",
        "# Create an instance of the model\n",
        "model = MyModel()"
      ],
      "execution_count": 4,
      "outputs": []
    },
    {
      "cell_type": "markdown",
      "metadata": {
        "id": "uGih-c2LgbJu"
      },
      "source": [
        "Choose an optimizer and loss function for training: "
      ]
    },
    {
      "cell_type": "code",
      "metadata": {
        "id": "u48C9WQ774n4"
      },
      "source": [
        "loss_object = tf.keras.losses.SparseCategoricalCrossentropy(from_logits=True)\n",
        "\n",
        "optimizer = tf.keras.optimizers.Adam()"
      ],
      "execution_count": 5,
      "outputs": []
    },
    {
      "cell_type": "markdown",
      "metadata": {
        "id": "JB6A1vcigsIe"
      },
      "source": [
        "Select metrics to measure the loss and the accuracy of the model. These metrics accumulate the values over epochs and then print the overall result."
      ]
    },
    {
      "cell_type": "code",
      "metadata": {
        "id": "N0MqHFb4F_qn"
      },
      "source": [
        "train_loss = tf.keras.metrics.Mean(name='train_loss')\n",
        "train_accuracy = tf.keras.metrics.SparseCategoricalAccuracy(name='train_accuracy')\n",
        "\n",
        "test_loss = tf.keras.metrics.Mean(name='test_loss')\n",
        "test_accuracy = tf.keras.metrics.SparseCategoricalAccuracy(name='test_accuracy')"
      ],
      "execution_count": 6,
      "outputs": []
    },
    {
      "cell_type": "markdown",
      "metadata": {
        "id": "ix4mEL65on-w"
      },
      "source": [
        "Use `tf.GradientTape` to train the model:"
      ]
    },
    {
      "cell_type": "code",
      "metadata": {
        "id": "OZACiVqA8KQV"
      },
      "source": [
        "@tf.function\n",
        "def train_step(images, labels):\n",
        "  with tf.GradientTape() as tape:\n",
        "    # training=True is only needed if there are layers with different\n",
        "    # behavior during training versus inference (e.g. Dropout).\n",
        "    predictions = model(images, training=True)\n",
        "    loss = loss_object(labels, predictions)\n",
        "  gradients = tape.gradient(loss, model.trainable_variables)\n",
        "  optimizer.apply_gradients(zip(gradients, model.trainable_variables))\n",
        "\n",
        "  train_loss(loss)\n",
        "  train_accuracy(labels, predictions)"
      ],
      "execution_count": 7,
      "outputs": []
    },
    {
      "cell_type": "markdown",
      "metadata": {
        "id": "Z8YT7UmFgpjV"
      },
      "source": [
        "Test the model:"
      ]
    },
    {
      "cell_type": "code",
      "metadata": {
        "id": "xIKdEzHAJGt7"
      },
      "source": [
        "@tf.function\n",
        "def test_step(images, labels):\n",
        "  # training=False is only needed if there are layers with different\n",
        "  # behavior during training versus inference (e.g. Dropout).\n",
        "  predictions = model(images, training=False)\n",
        "  t_loss = loss_object(labels, predictions)\n",
        "\n",
        "  test_loss(t_loss)\n",
        "  test_accuracy(labels, predictions)"
      ],
      "execution_count": 8,
      "outputs": []
    },
    {
      "cell_type": "code",
      "metadata": {
        "id": "i-2pkctU_Ci7",
        "colab": {
          "base_uri": "https://localhost:8080/"
        },
        "outputId": "8fd84876-bc9a-4584-9974-dcc544542e5a"
      },
      "source": [
        "#############################################################\n",
        "### THIS CELL TRAINS A CNN WITH 32 FILTERS                ###\n",
        "### IN THE FIRST, AND ONLY, CONVOLUTION LAYER             ###\n",
        "#############################################################\n",
        "EPOCHS = 3 #5\n",
        "\n",
        "for epoch in range(EPOCHS):\n",
        "  # Reset the metrics at the start of the next epoch\n",
        "  train_loss.reset_states()\n",
        "  train_accuracy.reset_states()\n",
        "  test_loss.reset_states()\n",
        "  test_accuracy.reset_states()\n",
        "\n",
        "  for images, labels in train_ds:\n",
        "    train_step(images, labels)\n",
        "\n",
        "  for test_images, test_labels in test_ds:\n",
        "    test_step(test_images, test_labels)\n",
        "\n",
        "  print(\n",
        "    f'Epoch {epoch + 1}, '\n",
        "    f'Loss: {train_loss.result()}, '\n",
        "    f'Accuracy: {train_accuracy.result() * 100}, '\n",
        "    f'Test Loss: {test_loss.result()}, '\n",
        "    f'Test Accuracy: {test_accuracy.result() * 100}'\n",
        "  )"
      ],
      "execution_count": 9,
      "outputs": [
        {
          "output_type": "stream",
          "text": [
            "Epoch 1, Loss: 0.13267728686332703, Accuracy: 96.0683364868164, Test Loss: 0.06888056546449661, Test Accuracy: 97.68999481201172\n",
            "Epoch 2, Loss: 0.040091268718242645, Accuracy: 98.77166748046875, Test Loss: 0.05173422396183014, Test Accuracy: 98.18999481201172\n",
            "Epoch 3, Loss: 0.020934997126460075, Accuracy: 99.33500671386719, Test Loss: 0.047581449151039124, Test Accuracy: 98.40999603271484\n"
          ],
          "name": "stdout"
        }
      ]
    },
    {
      "cell_type": "code",
      "metadata": {
        "id": "2DgJugxfTPQW"
      },
      "source": [
        "#####################################################################################\n",
        "### THIS CELL IMPORTS matplotlib PACKAGES USEFUL FOR DISPLAYS                     ###\n",
        "### AND STORES THE CONVOLUTION FILTERS AND BIASES IN VARIABLES filters AND biases ###\n",
        "#####################################################################################\n",
        "import numpy as np\n",
        "import matplotlib.pyplot as plt\n",
        "from matplotlib import gridspec\n",
        "filters, biases = model.layers[0].get_weights()"
      ],
      "execution_count": 10,
      "outputs": []
    },
    {
      "cell_type": "code",
      "metadata": {
        "id": "tvCZlJR-VSGI",
        "colab": {
          "base_uri": "https://localhost:8080/",
          "height": 560
        },
        "outputId": "6fb573c8-d75a-4625-8fca-b63179d82cef"
      },
      "source": [
        "#####################################################################################\n",
        "### THIS CELL DISPLAYS ALL 32 CONVOLUTION FILTERS AS IMAGES                       ###\n",
        "### AND STORES THE CONVOLUTION FILTERS AND BIASES IN VARIABLES filters AND biases ###\n",
        "#####################################################################################\n",
        "\n",
        "print('            Here are pictures of the convolution filters', end='\\n\\n')\n",
        "\n",
        "# normalize filter values to 0-1 so we can visualize them\n",
        "f_min, f_max = abs(filters.min()), abs(filters.max())\n",
        "if(f_max > 0):\n",
        "  filters = filters/f_max\n",
        "\n",
        "# set up figure for display\n",
        "Fig = plt.figure(figsize=(12.2, 9.6))\n",
        "Fig.set_size_inches(7.5,10.5)\n",
        "Fig.set_figheight(10)\n",
        "Fig.set_figwidth(10)\n",
        "spec = gridspec.GridSpec(ncols=4, nrows=3,\n",
        "                         width_ratios=[2, 2,2,2], wspace=0.5,\n",
        "                         hspace=0.1, height_ratios=[1,1,1])\n",
        "\n",
        "# display the 32 filters as an 8 x 4 array or\n",
        "# Just display the first 12 to reduce time to interpret\n",
        "NToIntrpt = 12\n",
        "for i in range(NToIntrpt):\n",
        "  # get the filter\n",
        "  f = filters[:, :, 0, i]\n",
        "  # specify subplot and turn of axis\n",
        "  \n",
        "  ax = Fig.add_subplot(spec[i])\n",
        "  ax.imshow(f, cmap='jet')\n",
        "plt.show()"
      ],
      "execution_count": 19,
      "outputs": [
        {
          "output_type": "stream",
          "text": [
            "            Here are pictures of the convolution filters\n",
            "\n"
          ],
          "name": "stdout"
        },
        {
          "output_type": "display_data",
          "data": {
            "image/png": "[encoded data removed]",
            "text/plain": [
              "<Figure size 720x720 with 12 Axes>"
            ]
          },
          "metadata": {
            "tags": [],
            "needs_background": "light"
          }
        }
      ]
    },
    {
      "cell_type": "code",
      "metadata": {
        "colab": {
          "base_uri": "https://localhost:8080/"
        },
        "id": "XrgH3pF-hcSs",
        "outputId": "5863442c-cb3d-44e2-a149-25acf869d0ed"
      },
      "source": [
        "#####################################################################################\n",
        "### THIS CELL PRINTS ALL 32 CONVOLUTION FILTERS                                   ###\n",
        "#####################################################################################\n",
        "print('       Here are the values of the convolution filters x 100 and rounded', end='\\n\\n')\n",
        "for MIdx in range(4):\n",
        "  for dIdx in range(5*3+3):\n",
        "    print('-', end='')\n",
        "  print('%s' %('  '),end='')\n",
        "print('\\n')\n",
        "\n",
        "NFiltRows = 3\n",
        "NFiltCols = 4\n",
        "FiltSz    = 3\n",
        "RndFilters = np.round(100*filters)\n",
        "fnum = 0;\n",
        "for srow in range(NFiltRows):\n",
        "    for frow in range(FiltSz):\n",
        "      for scol in range(NFiltCols):\n",
        "        MaskIdx = srow*4 + scol\n",
        "        #print(srow,frow,scol,MaskIdx)\n",
        "        Mask    = np.round(RndFilters[:,:,0,MaskIdx])      \n",
        "        print('%5d %5d %5d' %(Mask[frow,0], Mask[frow,1], Mask[frow,2]),end=' | ')\n",
        "      print('\\n')\n",
        "    for MIdx in range(4):\n",
        "      for dIdx in range(5*3+3):\n",
        "        print('-', end='')\n",
        "      print('%s' %('  '),end='')\n",
        "    print('\\n')"
      ],
      "execution_count": 20,
      "outputs": [
        {
          "output_type": "stream",
          "text": [
            "       Here are the values of the convolution filters x 100 and rounded\n",
            "\n",
            "------------------  ------------------  ------------------  ------------------  \n",
            "\n",
            "   59   -16   -62 |    16    15   -27 |    10   -21    39 |    51    10   -77 | \n",
            "\n",
            "   42   -12   -49 |     7   -50    -7 |    29    -5    -7 |    42   -37   -55 | \n",
            "\n",
            "   59    -3   -12 |     8    22    35 |     2   -18   -14 |     3   -49    11 | \n",
            "\n",
            "------------------  ------------------  ------------------  ------------------  \n",
            "\n",
            "    3    51   -21 |   -17    35     6 |    61    37  -107 |   -32  -112   -63 | \n",
            "\n",
            "  -21   -17    24 |   -21    10    31 |    46  -179    14 |    45     0  -122 | \n",
            "\n",
            "  -31     8    26 |   -63   -52    37 |  -125    18   100 |    87    63   -39 | \n",
            "\n",
            "------------------  ------------------  ------------------  ------------------  \n",
            "\n",
            "  -82    39    20 |   -87   -50   -27 |    56    43   -76 |   -28    12    33 | \n",
            "\n",
            "  -72   -14    39 |   -65    31   -22 |    15     3   -97 |    10    -7    -5 | \n",
            "\n",
            "  -72     6    52 |    31    -5    39 |   -20   -71   -62 |    34   -10    10 | \n",
            "\n",
            "------------------  ------------------  ------------------  ------------------  \n",
            "\n"
          ],
          "name": "stdout"
        }
      ]
    },
    {
      "cell_type": "code",
      "metadata": {
        "id": "kTwj7LstaMGT"
      },
      "source": [
        "#################################################\n",
        "### THIS CELL AND THE NEXT PRINT/DISPLAY      ###\n",
        "###  THE FILTER, IMAGE AND FEATURE MAP FOR    ###\n",
        "### A SPECIFIC TEST IMAGE AND FILTER          ###\n",
        "###                                           ###\n",
        "### JUST EXECUTE THIS CELL ONCE.              ###\n",
        "### IT RUNS THE TEST SET THROUGH THE MODEL    ###\n",
        "#################################################\n",
        "predictions = model(x_test, training=False)"
      ],
      "execution_count": 21,
      "outputs": []
    },
    {
      "cell_type": "code",
      "metadata": {
        "colab": {
          "base_uri": "https://localhost:8080/",
          "height": 363
        },
        "id": "vgVyZbmlwcjJ",
        "outputId": "6665b567-07e0-4518-96eb-af4fb9fe7680"
      },
      "source": [
        "#################################################\n",
        "###                                           ###\n",
        "### THIS CELL PRINTS AND DISPLAYS             ###\n",
        "### THE FILTER, IMAGE AND FEATURE MAP FOR     ###\n",
        "### A SPECIFIC TEST IMAGE AND FILTER          ###\n",
        "### THAT YOU PICK                             ###\n",
        "###                                           ###\n",
        "#################################################\n",
        "\n",
        "### SET THE FILTER AND IMAGE NUMBER PARAMETERS ###\n",
        "FilterNum = 11 #MUST BE BETWEEN 0 AND 31\n",
        "ImNum     = 6025 #MUST BE BETWEEN 0 AND 9999\n",
        "\n",
        "### GET THE ORIGINAL IMAGE.                          ###\n",
        "### Im IS FOR DISPLAY.                               ###\n",
        "### ImTf IS IN CORRECT FORMAT TO ACCESS FEATURE MAPS ###\n",
        "ImTf  = x_test[ImNum]\n",
        "Im    = np.reshape(ImTf, [28,28])\n",
        "ImTf  = ImTf[tf.newaxis,...].astype(\"float32\")\n",
        "\n",
        "### GET THE FEATURE MAP AND FILTER ###\n",
        "FMaps = model.conv1(ImTf)\n",
        "FMap  = FMaps[0,:,:,FilterNum]\n",
        "filt  = RndFilters[:,:,0,FilterNum]\n",
        "\n",
        "### PRINT THE FILTER ###\n",
        "print('Filter number %d is\\n' %FilterNum)\n",
        "for r in range(3):\n",
        "  for c in range(3):\n",
        "    print('%4d ' %filt[r,c], end=' ')\n",
        "  print('\\n')\n",
        "\n",
        "  ### DISPLAY THE ORGINAL IMAGE AND THE FEATURE MAP ###\n",
        "fig = plt.figure()\n",
        "plt.subplot(1,2,1)\n",
        "plt.imshow(Im)\n",
        "plt.title('Original Image')\n",
        "plt.subplot(1,2,2)\n",
        "plt.imshow(FMap)\n",
        "plt.title('Feature Map From Filter')\n",
        "plt.show()"
      ],
      "execution_count": 43,
      "outputs": [
        {
          "output_type": "stream",
          "text": [
            "Filter number 11 is\n",
            "\n",
            " -28    12    33  \n",
            "\n",
            "  10    -7    -5  \n",
            "\n",
            "  34   -10    10  \n",
            "\n"
          ],
          "name": "stdout"
        },
        {
          "output_type": "display_data",
          "data": {
            "image/png": "[encoded data removed]",
            "text/plain": [
              "<Figure size 432x288 with 2 Axes>"
            ]
          },
          "metadata": {
            "tags": [],
            "needs_background": "light"
          }
        }
      ]
    }
  ]
}